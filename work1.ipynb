{
  "nbformat": 4,
  "nbformat_minor": 0,
  "metadata": {
    "colab": {
      "provenance": [],
      "name": "work1.ipynb",
      "authorship_tag": "ABX9TyNXCFWFOnFlGdsRe2C7r4w9",
      "include_colab_link": true
    },
    "kernelspec": {
      "name": "python3",
      "display_name": "Python 3"
    },
    "language_info": {
      "name": "python"
    }
  },
  "cells": [
    {
      "cell_type": "markdown",
      "metadata": {
        "id": "view-in-github",
        "colab_type": "text"
      },
      "source": [
        "<a href=\"https://colab.research.google.com/github/AsaD1109/Prog2_11th/blob/main/work1.ipynb\" target=\"_parent\"><img src=\"https://colab.research.google.com/assets/colab-badge.svg\" alt=\"Open In Colab\"/></a>"
      ]
    },
    {
      "cell_type": "markdown",
      "source": [
        "対戦成績"
      ],
      "metadata": {
        "id": "omJCyqOSPvjB"
      }
    },
    {
      "cell_type": "code",
      "execution_count": null,
      "metadata": {
        "id": "3VkF3VrnvWrl"
      },
      "outputs": [],
      "source": [
        "#野球が好きなので野球のデータを読み込んだプログラミングを考えていきたい\n",
        "import pandas as pd\n"
      ]
    }
  ]
}